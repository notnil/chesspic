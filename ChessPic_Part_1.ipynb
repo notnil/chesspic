{
  "nbformat": 4,
  "nbformat_minor": 0,
  "metadata": {
    "colab": {
      "name": "ChessPic Part 1.ipynb",
      "version": "0.3.2",
      "provenance": [],
      "private_outputs": true,
      "collapsed_sections": [],
      "toc_visible": true
    },
    "kernelspec": {
      "display_name": "Python 3",
      "name": "python3"
    },
    "accelerator": "GPU"
  },
  "cells": [
    {
      "cell_type": "markdown",
      "metadata": {
        "colab_type": "text",
        "id": "CKFUvuEho9Th"
      },
      "source": [
        "# Setup"
      ]
    },
    {
      "cell_type": "code",
      "metadata": {
        "colab_type": "code",
        "id": "OGNpmn43C0O6",
        "colab": {}
      },
      "source": [
        "from __future__ import absolute_import, division, print_function, unicode_literals\n",
        "\n",
        "import matplotlib.pylab as plt\n",
        "\n",
        "!pip install tensorflow-gpu==2.0.0-beta1\n",
        "import tensorflow as tf\n",
        "\n",
        "!pip install tensorflow_hub\n",
        "import tensorflow_hub as hub\n",
        "\n",
        "from tensorflow.keras import layers\n",
        "import numpy as np\n",
        "import PIL.Image as Image\n",
        "\n",
        "DATA_PATH = 'batch-1'"
      ],
      "execution_count": 0,
      "outputs": []
    },
    {
      "cell_type": "markdown",
      "metadata": {
        "id": "-hZX2VCsx06u",
        "colab_type": "text"
      },
      "source": [
        "# Start Tensorboard"
      ]
    },
    {
      "cell_type": "code",
      "metadata": {
        "id": "Ge85fMBTLo89",
        "colab_type": "code",
        "colab": {}
      },
      "source": [
        "!wget https://bin.equinox.io/c/4VmDzA7iaHb/ngrok-stable-linux-amd64.zip\n",
        "!unzip ngrok-stable-linux-amd64.zip\n",
        "LOG_DIR = './log'\n",
        "get_ipython().system_raw(\n",
        "    'tensorboard --logdir {} --host 0.0.0.0 --port 6006 &'\n",
        "    .format(LOG_DIR)\n",
        ")\n",
        "get_ipython().system_raw('./ngrok http 6006 &')\n",
        "!sleep 1s\n",
        "!curl -s http://localhost:4040/api/tunnels | python3 -c \\\n",
        "    \"import sys, json; print(json.load(sys.stdin)['tunnels'][0]['public_url'])\""
      ],
      "execution_count": 0,
      "outputs": []
    },
    {
      "cell_type": "markdown",
      "metadata": {
        "id": "ycS4Aztxx62y",
        "colab_type": "text"
      },
      "source": [
        "# Download Dataset"
      ]
    },
    {
      "cell_type": "code",
      "metadata": {
        "id": "iyuE2onntCM6",
        "colab_type": "code",
        "colab": {}
      },
      "source": [
        "!wget https://storage.googleapis.com/chesspic/batch-1.zip\n",
        "!rm -rf temp\n",
        "!unzip -q batch-1.zip -d temp\n",
        "!mkdir batch-1\n",
        "!mv temp/Chess\\ Screenshots/* batch-1"
      ],
      "execution_count": 0,
      "outputs": []
    },
    {
      "cell_type": "markdown",
      "metadata": {
        "colab_type": "text",
        "id": "amfzqn1Oo7Om"
      },
      "source": [
        "# Model"
      ]
    },
    {
      "cell_type": "code",
      "metadata": {
        "id": "CN4d-BUb9b0p",
        "colab_type": "code",
        "colab": {}
      },
      "source": [
        "from tensorflow.keras.applications.mobilenet_v2 import preprocess_input as mobilenet_preprocess_input\n",
        "from tensorflow.keras.applications.inception_v3 import preprocess_input as inception_v3_preprocess_input\n",
        "from tensorflow.keras.preprocessing import image\n",
        "import random\n",
        "import pandas as pd\n",
        "from sklearn.model_selection import train_test_split\n",
        "from tensorflow.keras import layers\n",
        "from tensorflow.keras import losses\n",
        "from tensorflow.keras.callbacks import ModelCheckpoint\n",
        "from tensorflow.keras.callbacks import TensorBoard\n",
        "import PIL.Image as Image\n",
        "from os import path\n",
        "\n",
        "BATCH_SIZE = 32\n",
        "MODEL_INCEPTION_V3 = {\n",
        "    \"shape\": (299, 299),\n",
        "    \"url\": \"https://tfhub.dev/google/tf2-preview/inception_v3/feature_vector/4\",\n",
        "    \"preprocessor\": inception_v3_preprocess_input\n",
        "}\n",
        "MODEL_MOBILENET_V2 = {\n",
        "    \"shape\": (224, 224),\n",
        "    \"url\": \"https://tfhub.dev/google/tf2-preview/mobilenet_v2/feature_vector/4\",\n",
        "    \"preprocessor\": mobilenet_preprocess_input\n",
        "}\n",
        "def create_model(arch=MODEL_MOBILENET_V2):\n",
        "  image_input = tf.keras.Input(shape=(*arch[\"shape\"],3), name='img')\n",
        "  nn = hub.KerasLayer(arch[\"url\"],\n",
        "                      input_shape=(*arch[\"shape\"],3),\n",
        "                      trainable=True)(image_input)\n",
        "  nn = layers.Dense(2050, activation='relu')(nn)\n",
        "  outputs = []\n",
        "  for i in range(64):\n",
        "    out = layers.Dense(13, activation='softmax')(nn)\n",
        "    outputs.append(out)\n",
        "  model = tf.keras.models.Model(inputs=image_input, outputs=outputs)\n",
        "  model.compile(optimizer='adam', loss=[\"categorical_crossentropy\"] * 64, loss_weights=[1.0]*64)\n",
        "  return model\n",
        "\n",
        "class DataGenerator(tf.keras.utils.Sequence):\n",
        "    'Generates data for Keras'\n",
        "    def __init__(self, labels, batch_size=BATCH_SIZE, shuffle=True, arch=MODEL_MOBILENET_V2):\n",
        "        'Initialization'\n",
        "        self.batch_size = batch_size\n",
        "        self.labels = labels\n",
        "        self.shuffle = shuffle\n",
        "        self.arch = arch        \n",
        "        self.on_epoch_end()\n",
        "\n",
        "    def __len__(self):\n",
        "        'Denotes the number of batches per epoch'\n",
        "        return int(np.floor(len(self.labels) / self.batch_size))\n",
        "\n",
        "    def __getitem__(self, index):\n",
        "        'Generate one batch of data'\n",
        "        start = index*self.batch_size\n",
        "        end = (index+1)*self.batch_size\n",
        "        idx_labels = self.labels[start:end]\n",
        "        X = np.zeros((self.batch_size, *self.arch[\"shape\"], 3))\n",
        "        for i, label in enumerate(idx_labels):\n",
        "          # make X\n",
        "          img = image.load_img(DATA_PATH + \"/\" + label, target_size=self.arch[\"shape\"])\n",
        "          a = image.img_to_array(img)\n",
        "          a = self.arch[\"preprocessor\"](a)\n",
        "          X[i,] = a         \n",
        "        y = []\n",
        "        for sq in range(64):\n",
        "          out = np.zeros((self.batch_size,13))        \n",
        "          for i, label in enumerate(idx_labels):\n",
        "            fen = path.splitext(label)[0]\n",
        "            rows = self.fill_ones(fen).split(\"-\")\n",
        "            rows.reverse()\n",
        "            c = rows[sq // 8][sq % 8]\n",
        "            idx = self.fen_char_to_idx(c)\n",
        "            out[i,idx] = 1.0\n",
        "          y.append(out)\n",
        "        return X, y\n",
        "    \n",
        "    def fen_char_to_idx(self, c):\n",
        "      s = \"KQRBNPkqrbnp1\"\n",
        "      return s.find(c)\n",
        "    \n",
        "    def fill_ones(self, fen):\n",
        "      for i in range(8,1,-1):\n",
        "        fen = fen.replace(str(i), \"1\"*i)\n",
        "      return fen\n",
        "\n",
        "    def on_epoch_end(self):\n",
        "        'Updates indexes after each epoch'\n",
        "        if self.shuffle == True:\n",
        "          random.shuffle(self.labels)"
      ],
      "execution_count": 0,
      "outputs": []
    },
    {
      "cell_type": "markdown",
      "metadata": {
        "id": "oiVbBDrcwM3y",
        "colab_type": "text"
      },
      "source": [
        "# Training"
      ]
    },
    {
      "cell_type": "code",
      "metadata": {
        "id": "sBrq46c6v-CM",
        "colab_type": "code",
        "colab": {}
      },
      "source": [
        "import glob\n",
        "\n",
        "labels = glob.glob(\"batch-1/*.jpg\")\n",
        "labels = list(map(lambda l: path.basename(l), labels))\n",
        "print(\"Number of labels \" + str(len(labels)))\n",
        "labels_train, labels_val = train_test_split(labels)\n",
        "training_generator = DataGenerator(labels_train)\n",
        "validation_generator = DataGenerator(labels_train)\n",
        "\n",
        "# tensorboard callback\n",
        "tbCallBack = TensorBoard(log_dir='./log', histogram_freq=1,\n",
        "                         write_graph=True,\n",
        "                         write_grads=True,\n",
        "                         batch_size=BATCH_SIZE,\n",
        "                         write_images=True)\n",
        "checkpoint = ModelCheckpoint(\"weights.{epoch:02d}-{val_loss:.2f}.hdf5\", \n",
        "                             monitor='val_loss', \n",
        "                             verbose=0, \n",
        "                             save_best_only=True, \n",
        "                             mode='auto', \n",
        "                             period=1)\n",
        "\n",
        "# Train model on dataset\n",
        "model = create_model()\n",
        "model.summary()\n",
        "history = model.fit_generator(generator=training_generator, \n",
        "                              validation_data=validation_generator, \n",
        "                              verbose=2, \n",
        "                              epochs=40,\n",
        "                              callbacks=[tbCallBack, checkpoint])"
      ],
      "execution_count": 0,
      "outputs": []
    },
    {
      "cell_type": "markdown",
      "metadata": {
        "id": "pQvtmsFswv9m",
        "colab_type": "text"
      },
      "source": [
        "# Additional Training"
      ]
    },
    {
      "cell_type": "code",
      "metadata": {
        "id": "2v9j0EXuwuqW",
        "colab_type": "code",
        "colab": {}
      },
      "source": [
        "# season to taste\n",
        "history = model.fit_generator(generator=training_generator, \n",
        "                              validation_data=validation_generator, \n",
        "                              verbose=2, \n",
        "                              epochs=5,\n",
        "                              callbacks=[tbCallBack, checkpoint])"
      ],
      "execution_count": 0,
      "outputs": []
    },
    {
      "cell_type": "markdown",
      "metadata": {
        "id": "9fKKSRhwwefw",
        "colab_type": "text"
      },
      "source": [
        "# Prediction"
      ]
    },
    {
      "cell_type": "code",
      "metadata": {
        "id": "DwaJY1ORwqxM",
        "colab_type": "code",
        "colab": {}
      },
      "source": [
        "from IPython.display import SVG, display, Image\n",
        "\n",
        "piece_lookup = {\n",
        "    0 : \"K\",\n",
        "    1 : \"Q\",\n",
        "    2 : \"R\",\n",
        "    3 : \"B\",\n",
        "    4 : \"N\",\n",
        "    5 : \"P\",\n",
        "    6 : \"k\",\n",
        "    7 : \"q\",\n",
        "    8 : \"r\",\n",
        "    9 : \"b\",\n",
        "    10 : \"n\",\n",
        "    11 : \"p\",\n",
        "    12 : \"1\",\n",
        "}\n",
        "def y_to_fens(y):\n",
        "  results = []\n",
        "  for n in range(BATCH_SIZE):\n",
        "    fen = \"\"\n",
        "    for sq in range(64):\n",
        "      piece_idx = np.argmax(y[sq][n,])\n",
        "      fen += piece_lookup[piece_idx]\n",
        "    a = [fen[i:i+8] for i in range(0, len(fen), 8)]\n",
        "    a = a[::-1]\n",
        "    fen = \"/\".join(a)\n",
        "    for i in range(8,1,-1):\n",
        "      old_str = \"1\" * i\n",
        "      new_str = str(i)\n",
        "      fen = fen.replace(old_str, new_str)\n",
        "    results.append(fen)\n",
        "  return results\n",
        "\n",
        "test_X, test_y = validation_generator.__getitem__(0)\n",
        "batch_y = model.predict(test_X)\n",
        "true_fens = y_to_fens(test_y)\n",
        "pred_fens = y_to_fens(batch_y)\n",
        "\n",
        "index_to_show = 1\n",
        "file_name = DATA_PATH + \"/\" + validation_generator.labels[index_to_show]\n",
        "print(\"3D Image\")\n",
        "display(Image(filename=file_name, width=400))\n",
        "BASE_URL = \"https://us-central1-spearsx.cloudfunctions.net/chesspic-fen-image/\"\n",
        "print(\"2D Ground Truth \" + true_fens[index_to_show])\n",
        "display(SVG(url=BASE_URL+true_fens[index_to_show]))\n",
        "print(\"2D Prediction \" + pred_fens[index_to_show])\n",
        "display(SVG(url=BASE_URL+pred_fens[index_to_show]))"
      ],
      "execution_count": 0,
      "outputs": []
    }
  ]
}